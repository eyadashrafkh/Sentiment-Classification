{
 "cells": [
  {
   "cell_type": "markdown",
   "metadata": {},
   "source": [
    "# Import libraries"
   ]
  },
  {
   "cell_type": "code",
   "execution_count": 1,
   "metadata": {
    "ExecuteTime": {
     "end_time": "2024-03-16T19:11:44.348235315Z",
     "start_time": "2024-03-16T19:11:43.207201416Z"
    }
   },
   "outputs": [],
   "source": [
    "import numpy as np\n",
    "import pandas as pd\n",
    "import seaborn as sns\n",
    "import matplotlib.pyplot as plt\n",
    "from datasets import load_dataset\n",
    "from scipy.sparse import csr_matrix\n",
    "from sklearn.pipeline import make_pipeline\n",
    "from sklearn.naive_bayes import MultinomialNB\n",
    "from sklearn.linear_model import SGDClassifier\n",
    "from sklearn.preprocessing import StandardScaler\n",
    "from sklearn.linear_model import LogisticRegression\n",
    "from sklearn.feature_extraction.text import CountVectorizer\n",
    "from sklearn.linear_model import SGDClassifier\n",
    "from sklearn.metrics import precision_score, recall_score, f1_score, confusion_matrix"
   ]
  },
  {
   "cell_type": "markdown",
   "metadata": {},
   "source": [
    "# Load dataset"
   ]
  },
  {
   "cell_type": "code",
   "execution_count": 2,
   "metadata": {
    "ExecuteTime": {
     "end_time": "2024-03-16T19:11:49.823061134Z",
     "start_time": "2024-03-16T19:11:44.354545355Z"
    }
   },
   "outputs": [],
   "source": [
    "default_dataset = load_dataset(\"sst\", \"default\")"
   ]
  },
  {
   "cell_type": "code",
   "execution_count": 3,
   "metadata": {
    "ExecuteTime": {
     "end_time": "2024-03-16T19:11:49.834782419Z",
     "start_time": "2024-03-16T19:11:49.826499758Z"
    }
   },
   "outputs": [
    {
     "name": "stdout",
     "output_type": "stream",
     "text": [
      "Default: DatasetDict({\n",
      "    train: Dataset({\n",
      "        features: ['sentence', 'label', 'tokens', 'tree'],\n",
      "        num_rows: 8544\n",
      "    })\n",
      "    validation: Dataset({\n",
      "        features: ['sentence', 'label', 'tokens', 'tree'],\n",
      "        num_rows: 1101\n",
      "    })\n",
      "    test: Dataset({\n",
      "        features: ['sentence', 'label', 'tokens', 'tree'],\n",
      "        num_rows: 2210\n",
      "    })\n",
      "})\n"
     ]
    }
   ],
   "source": [
    "print(\"Default:\",default_dataset)"
   ]
  },
  {
   "cell_type": "markdown",
   "metadata": {},
   "source": [
    "## Check dataset"
   ]
  },
  {
   "cell_type": "markdown",
   "metadata": {},
   "source": [
    "### Default format"
   ]
  },
  {
   "cell_type": "code",
   "execution_count": 4,
   "metadata": {
    "ExecuteTime": {
     "end_time": "2024-03-16T19:11:49.931627117Z",
     "start_time": "2024-03-16T19:11:49.838671649Z"
    }
   },
   "outputs": [
    {
     "name": "stdout",
     "output_type": "stream",
     "text": [
      "                                            sentence    label  \\\n",
      "0  The Rock is destined to be the 21st Century 's...  0.69444   \n",
      "1  The gorgeously elaborate continuation of `` Th...  0.83333   \n",
      "2  Singer\\/composer Bryan Adams contributes a sle...  0.62500   \n",
      "3  You 'd think by now America would have had eno...  0.50000   \n",
      "4               Yet the act is still charming here .  0.72222   \n",
      "\n",
      "                                              tokens  \\\n",
      "0  The|Rock|is|destined|to|be|the|21st|Century|'s...   \n",
      "1  The|gorgeously|elaborate|continuation|of|``|Th...   \n",
      "2  Singer\\/composer|Bryan|Adams|contributes|a|sle...   \n",
      "3  You|'d|think|by|now|America|would|have|had|eno...   \n",
      "4               Yet|the|act|is|still|charming|here|.   \n",
      "\n",
      "                                                tree  \n",
      "0  70|70|68|67|63|62|61|60|58|58|57|56|56|64|65|5...  \n",
      "1  71|70|69|69|67|67|66|64|63|62|62|61|61|58|57|5...  \n",
      "2  72|71|71|70|68|68|67|67|66|63|62|62|60|60|58|5...  \n",
      "3  36|35|34|33|33|32|30|29|27|26|25|24|23|23|22|2...  \n",
      "4          15|13|13|10|9|9|11|12|10|11|12|14|14|15|0  \n",
      "                                            sentence    label  \\\n",
      "0                     Effective but too-tepid biopic  0.51389   \n",
      "1  If you sometimes like to go to the movies to h...  0.73611   \n",
      "2  Emerges as something rare , an issue movie tha...  0.86111   \n",
      "3  The film provides some great insight into the ...  0.59722   \n",
      "4  Offers that rare combination of entertainment ...  0.83333   \n",
      "\n",
      "                                              tokens  \\\n",
      "0                     Effective|but|too-tepid|biopic   \n",
      "1  If|you|sometimes|like|to|go|to|the|movies|to|h...   \n",
      "2  Emerges|as|something|rare|,|an|issue|movie|tha...   \n",
      "3  The|film|provides|some|great|insight|into|the|...   \n",
      "4  Offers|that|rare|combination|of|entertainment|...   \n",
      "\n",
      "                                                tree  \n",
      "0                                      6|6|5|5|7|7|0  \n",
      "1  40|39|38|37|36|34|33|32|32|31|30|30|29|28|26|2...  \n",
      "2  42|41|40|40|43|38|37|37|36|34|31|31|32|30|30|2...  \n",
      "3  50|50|47|46|45|45|44|42|41|41|40|36|36|37|38|3...  \n",
      "4  16|14|13|13|12|10|10|11|17|11|12|15|14|15|16|17|0  \n",
      "                                            sentence    label  \\\n",
      "0  It 's a lovely film with lovely performances b...  0.79167   \n",
      "1  No one goes unindicted here , which is probabl...  0.51389   \n",
      "2  And if you 're not nearly moved to tears by a ...  0.76389   \n",
      "3                   A warm , funny , engaging film .  0.88889   \n",
      "4  Uses sharp humor and insight into human nature...  0.80556   \n",
      "\n",
      "                                              tokens  \\\n",
      "0  It|'s|a|lovely|film|with|lovely|performances|b...   \n",
      "1  No|one|goes|unindicted|here|,|which|is|probabl...   \n",
      "2  And|if|you|'re|not|nearly|moved|to|tears|by|a|...   \n",
      "3                   A|warm|,|funny|,|engaging|film|.   \n",
      "4  Uses|sharp|humor|and|insight|into|human|nature...   \n",
      "\n",
      "                                                tree  \n",
      "0  25|23|21|20|20|19|17|17|16|14|14|15|24|15|16|1...  \n",
      "1  24|24|22|19|19|20|18|16|16|15|14|14|23|15|17|1...  \n",
      "2  47|45|44|41|41|42|39|38|38|37|35|35|34|34|33|3...  \n",
      "3          14|12|12|13|11|9|9|10|10|11|15|13|14|15|0  \n",
      "4  46|43|41|41|42|40|39|39|38|37|36|36|35|33|31|3...  \n"
     ]
    }
   ],
   "source": [
    "train_def = default_dataset[\"train\"].to_pandas()\n",
    "test_def = default_dataset[\"test\"].to_pandas()\n",
    "val_def = default_dataset[\"validation\"].to_pandas()\n",
    "print(train_def.head())\n",
    "print(test_def.head())\n",
    "print(val_def.head())"
   ]
  },
  {
   "cell_type": "markdown",
   "metadata": {},
   "source": [
    "## We will use the default config"
   ]
  },
  {
   "cell_type": "code",
   "execution_count": 5,
   "metadata": {
    "ExecuteTime": {
     "end_time": "2024-03-16T19:11:49.970594249Z",
     "start_time": "2024-03-16T19:11:49.901722703Z"
    }
   },
   "outputs": [
    {
     "name": "stdout",
     "output_type": "stream",
     "text": [
      "0    The Rock is destined to be the 21st Century 's...\n",
      "1    The gorgeously elaborate continuation of `` Th...\n",
      "2    Singer\\/composer Bryan Adams contributes a sle...\n",
      "3    You 'd think by now America would have had eno...\n",
      "4                 Yet the act is still charming here .\n",
      "Name: sentence, dtype: object\n",
      "0    0.69444\n",
      "1    0.83333\n",
      "2    0.62500\n",
      "3    0.50000\n",
      "4    0.72222\n",
      "Name: label, dtype: float32\n",
      "0                       Effective but too-tepid biopic\n",
      "1    If you sometimes like to go to the movies to h...\n",
      "2    Emerges as something rare , an issue movie tha...\n",
      "3    The film provides some great insight into the ...\n",
      "4    Offers that rare combination of entertainment ...\n",
      "Name: sentence, dtype: object\n",
      "0    0.51389\n",
      "1    0.73611\n",
      "2    0.86111\n",
      "3    0.59722\n",
      "4    0.83333\n",
      "Name: label, dtype: float32\n",
      "0    It 's a lovely film with lovely performances b...\n",
      "1    No one goes unindicted here , which is probabl...\n",
      "2    And if you 're not nearly moved to tears by a ...\n",
      "3                     A warm , funny , engaging film .\n",
      "4    Uses sharp humor and insight into human nature...\n",
      "Name: sentence, dtype: object\n",
      "0    0.79167\n",
      "1    0.51389\n",
      "2    0.76389\n",
      "3    0.88889\n",
      "4    0.80556\n",
      "Name: label, dtype: float32\n"
     ]
    }
   ],
   "source": [
    "X_train_def = train_def[\"sentence\"]\n",
    "y_train_def = train_def[\"label\"]\n",
    "X_test_def = test_def[\"sentence\"]\n",
    "y_test_def = test_def[\"label\"]\n",
    "X_val_def = val_def[\"sentence\"]\n",
    "y_val_def = val_def[\"label\"]\n",
    "print(X_train_def.head())\n",
    "print(y_train_def.head())\n",
    "print(X_test_def.head())\n",
    "print(y_test_def.head())\n",
    "print(X_val_def.head())\n",
    "print(y_val_def.head())"
   ]
  },
  {
   "cell_type": "markdown",
   "metadata": {},
   "source": [
    "# Preprocessing"
   ]
  },
  {
   "cell_type": "markdown",
   "metadata": {},
   "source": [
    "### Map function"
   ]
  },
  {
   "cell_type": "code",
   "execution_count": 6,
   "metadata": {
    "ExecuteTime": {
     "end_time": "2024-03-16T19:11:50.148990164Z",
     "start_time": "2024-03-16T19:11:49.912676226Z"
    }
   },
   "outputs": [],
   "source": [
    "# Map the scores to sentiment classes\n",
    "def map_sentiment(score):\n",
    "    if score <= 0.2:\n",
    "        return 0\n",
    "    elif score <= 0.4:\n",
    "        return 1\n",
    "    elif score <= 0.6:\n",
    "        return 2\n",
    "    elif score <= 0.8:\n",
    "        return 3\n",
    "    else:\n",
    "        return 4"
   ]
  },
  {
   "cell_type": "code",
   "execution_count": 7,
   "metadata": {
    "ExecuteTime": {
     "end_time": "2024-03-16T19:11:50.155633608Z",
     "start_time": "2024-03-16T19:11:49.959263907Z"
    }
   },
   "outputs": [
    {
     "name": "stdout",
     "output_type": "stream",
     "text": [
      "[3 4 2 1 0]\n",
      "[2 3 4 1 0]\n",
      "[3 2 4 0 1]\n"
     ]
    }
   ],
   "source": [
    "# Map the scores to sentiment classes\n",
    "y_train = y_train_def.apply(map_sentiment)\n",
    "y_test = y_test_def.apply(map_sentiment)\n",
    "y_val = y_val_def.apply(map_sentiment)\n",
    "print(y_train.unique())\n",
    "print(y_test.unique())\n",
    "print(y_val.unique())"
   ]
  },
  {
   "cell_type": "markdown",
   "metadata": {},
   "source": [
    "# Models"
   ]
  },
  {
   "cell_type": "markdown",
   "metadata": {},
   "source": [
    "## Naive Bayes"
   ]
  },
  {
   "cell_type": "markdown",
   "metadata": {},
   "source": [
    "### Feature extraction"
   ]
  },
  {
   "cell_type": "code",
   "outputs": [
    {
     "data": {
      "text/plain": "(8544,)"
     },
     "execution_count": 8,
     "metadata": {},
     "output_type": "execute_result"
    }
   ],
   "source": [
    "X_train_def.shape"
   ],
   "metadata": {
    "collapsed": false,
    "ExecuteTime": {
     "end_time": "2024-03-16T19:11:50.183531989Z",
     "start_time": "2024-03-16T19:11:49.969294910Z"
    }
   },
   "execution_count": 8
  },
  {
   "cell_type": "code",
   "execution_count": 9,
   "metadata": {
    "ExecuteTime": {
     "end_time": "2024-03-16T19:11:50.188058551Z",
     "start_time": "2024-03-16T19:11:50.011036574Z"
    }
   },
   "outputs": [],
   "source": [
    "# vectorizer = CountVectorizer(analyzer='word', ngram_range=(2, 2))\n",
    "# X_train = vectorizer.fit_transform(X_train_def).astype(int)\n",
    "# X_test = vectorizer.transform(X_test_def).astype(int)\n",
    "# X_val = vectorizer.transform(X_val_def).astype(int)\n",
    "# print(vectorizer.get_feature_names_out())\n",
    "# print(X_train.shape)\n",
    "# print(X_test.shape)\n",
    "# print(X_val.shape)"
   ]
  },
  {
   "cell_type": "markdown",
   "metadata": {},
   "source": [
    "### Implementation from scratch"
   ]
  },
  {
   "cell_type": "code",
   "execution_count": 10,
   "metadata": {
    "ExecuteTime": {
     "end_time": "2024-03-16T19:11:50.193074554Z",
     "start_time": "2024-03-16T19:11:50.011295253Z"
    }
   },
   "outputs": [],
   "source": [
    "import numpy as np\n",
    "\n",
    "class NaiveBayes:\n",
    "    def __init__(self, smoothing_factor=1):\n",
    "        self.classes = None\n",
    "        self.class_priors = None\n",
    "        self.feature_log_prob_ = None  # Changed name to match scikit-learn's convention\n",
    "        self.smoothing_factor = smoothing_factor\n",
    "        self.vocab = None\n",
    "\n",
    "    def fit(self, X, y):\n",
    "        self.classes = np.unique(y)\n",
    "        self.vocab = self.get_vocab(X)\n",
    "        self.class_priors = self.calculate_class_priors(y)\n",
    "        self.feature_log_prob_ = self.calculate_feature_log_prob(X, y)  # Changed method name\n",
    "\n",
    "    def get_vocab(self, X):\n",
    "        # create a set from every document\n",
    "        sets = X.apply(lambda x: set(x.split(\" \")))\n",
    "        \n",
    "        # merge all sets\n",
    "        vocab = set()\n",
    "        for s in sets:\n",
    "            vocab |= s\n",
    "        \n",
    "        # create a dictionary with the words and their indexes\n",
    "        dic = {}\n",
    "        for i in range(len(vocab)):\n",
    "            dic[vocab.pop()] = i\n",
    "        \n",
    "        return dic\n",
    "        \n",
    "    def calculate_class_priors(self, y):\n",
    "        class_priors = []\n",
    "        for c in self.classes:\n",
    "            class_priors.append(np.mean(y == c))\n",
    "        return class_priors\n",
    "\n",
    "    def calculate_feature_log_prob(self, X, y):\n",
    "        def count_words(doc):\n",
    "            words_count = np.zeros(len(self.vocab))\n",
    "            for word in doc.split(\" \"):\n",
    "                ind = self.vocab[word]\n",
    "                words_count[ind] += 1\n",
    "            return words_count\n",
    "        \n",
    "        words_count_per_class = np.array([np.zeros(len(self.vocab)) for _ in range(len(self.classes))])\n",
    "        words_total_per_class = np.zeros(len(self.classes))\n",
    "        for i in range(len(X)):\n",
    "            words_count = count_words(X[i])\n",
    "            words_count_per_class[y[i]] += words_count\n",
    "            \n",
    "            total_words = len(X[i].split(\" \"))\n",
    "            words_total_per_class[y[i]] += total_words\n",
    "        \n",
    "        feature_log_prob_ = []\n",
    "        for i in range(len(self.classes)):\n",
    "            feature_log_prob_.append(np.log((words_count_per_class[i] + self.smoothing_factor) / (words_total_per_class[i] + len(self.vocab) * self.smoothing_factor)))\n",
    "\n",
    "        return feature_log_prob_\n",
    "\n",
    "    def predict(self, X):\n",
    "        predictions = []\n",
    "\n",
    "        for doc in X:\n",
    "            words_count = np.zeros(len(self.vocab))\n",
    "            for word in doc.split(\" \"):\n",
    "                if word in self.vocab:\n",
    "                    ind = self.vocab[word]\n",
    "                    words_count[ind] += 1\n",
    "            \n",
    "            probs = []\n",
    "            for i in range(len(self.classes)):\n",
    "                prob = np.log(self.class_priors[i]) + np.sum(self.feature_log_prob_[i] * words_count)\n",
    "                probs.append(prob)\n",
    "            \n",
    "            predictions.append(np.argmax(probs))\n",
    "\n",
    "        return predictions\n",
    "\n",
    "    def log_prior(self):\n",
    "        return np.log(self.class_priors)\n",
    "\n",
    "    def log_likelihood(self):\n",
    "        return self.feature_log_prob_  # No need to modify this, as it already returns log probabilities\n",
    "                "
   ]
  },
  {
   "cell_type": "code",
   "execution_count": 11,
   "metadata": {
    "ExecuteTime": {
     "end_time": "2024-03-16T19:11:50.716349050Z",
     "start_time": "2024-03-16T19:11:50.017003219Z"
    }
   },
   "outputs": [],
   "source": [
    "naive_bayes = NaiveBayes()\n",
    "naive_bayes.fit(X_train_def, y_train)\n",
    "nb1 = naive_bayes"
   ]
  },
  {
   "cell_type": "code",
   "outputs": [
    {
     "name": "stdout",
     "output_type": "stream",
     "text": [
      "[0 1 2 3 4]\n"
     ]
    }
   ],
   "source": [
    "print(nb1.classes)"
   ],
   "metadata": {
    "collapsed": false,
    "ExecuteTime": {
     "end_time": "2024-03-16T19:11:50.739773710Z",
     "start_time": "2024-03-16T19:11:50.720568300Z"
    }
   },
   "execution_count": 12
  },
  {
   "cell_type": "code",
   "execution_count": 13,
   "metadata": {
    "ExecuteTime": {
     "end_time": "2024-03-16T19:11:51.424682699Z",
     "start_time": "2024-03-16T19:11:50.729245185Z"
    }
   },
   "outputs": [
    {
     "name": "stdout",
     "output_type": "stream",
     "text": [
      "[2, 3, 3, 3, 4, 2, 2, 1, 3, 3]\n"
     ]
    }
   ],
   "source": [
    "nb1_predictions = nb1.predict(X_test_def)\n",
    "print(nb1_predictions[:10])"
   ]
  },
  {
   "cell_type": "code",
   "outputs": [
    {
     "name": "stdout",
     "output_type": "stream",
     "text": [
      "(array([0, 1, 2, 3, 4]), array([  47,  911,  127, 1015,  110]))\n"
     ]
    }
   ],
   "source": [
    "preds = np.array(nb1_predictions)\n",
    "print(np.unique(preds, return_counts=True))"
   ],
   "metadata": {
    "collapsed": false,
    "ExecuteTime": {
     "end_time": "2024-03-16T19:11:51.461772563Z",
     "start_time": "2024-03-16T19:11:51.425395141Z"
    }
   },
   "execution_count": 14
  },
  {
   "cell_type": "markdown",
   "metadata": {},
   "source": [
    "### Implementation using scikit learn"
   ]
  },
  {
   "cell_type": "code",
   "outputs": [],
   "source": [
    "vectorizer = CountVectorizer(analyzer='word')\n",
    "X_train = vectorizer.fit_transform(X_train_def).astype(int)\n",
    "X_test = vectorizer.transform(X_test_def).astype(int)\n",
    "X_val = vectorizer.transform(X_val_def).astype(int)"
   ],
   "metadata": {
    "collapsed": false,
    "ExecuteTime": {
     "end_time": "2024-03-16T19:11:51.832126999Z",
     "start_time": "2024-03-16T19:11:51.433377367Z"
    }
   },
   "execution_count": 15
  },
  {
   "cell_type": "code",
   "execution_count": 16,
   "metadata": {
    "ExecuteTime": {
     "end_time": "2024-03-16T19:11:51.858190076Z",
     "start_time": "2024-03-16T19:11:51.836613568Z"
    }
   },
   "outputs": [],
   "source": [
    "naive_bayes = MultinomialNB()\n",
    "naive_bayes.fit(X_train, y_train)\n",
    "nb2 = naive_bayes"
   ]
  },
  {
   "cell_type": "code",
   "execution_count": 17,
   "metadata": {
    "ExecuteTime": {
     "end_time": "2024-03-16T19:11:51.941632064Z",
     "start_time": "2024-03-16T19:11:51.864613455Z"
    }
   },
   "outputs": [
    {
     "name": "stdout",
     "output_type": "stream",
     "text": [
      "[-2.0572184  -1.34862339 -1.66033704 -1.3028004  -1.89213865]\n",
      "[-2.0572184  -1.34862339 -1.66033704 -1.3028004  -1.89213865]\n",
      "[-10.402837582827095, -10.402837582827095, -10.402837582827095, -10.402837582827095, -10.402837582827095, -10.402837582827095, -10.402837582827095, -10.402837582827095, -10.402837582827095, -10.402837582827095]\n",
      "[-10.576763603453662, -10.576763603453662, -10.576763603453662, -10.576763603453662, -10.576763603453662, -10.576763603453662, -10.576763603453662, -10.576763603453662, -10.576763603453662, -10.576763603453662]\n"
     ]
    }
   ],
   "source": [
    "print(nb2.class_log_prior_)\n",
    "print(nb1.log_prior())\n",
    "print(sorted(nb2.feature_log_prob_[0])[:10])\n",
    "print(sorted(nb1.log_likelihood()[0])[:10])"
   ]
  },
  {
   "cell_type": "code",
   "outputs": [],
   "source": [
    "preds2 = nb2.predict(X_test)"
   ],
   "metadata": {
    "collapsed": false,
    "ExecuteTime": {
     "end_time": "2024-03-16T19:11:52.010322922Z",
     "start_time": "2024-03-16T19:11:51.885048221Z"
    }
   },
   "execution_count": 18
  },
  {
   "cell_type": "code",
   "outputs": [
    {
     "name": "stdout",
     "output_type": "stream",
     "text": [
      "(array([0, 1, 2, 3, 4]), array([  47,  911,  127, 1015,  110]))\n",
      "(array([0, 1, 2, 3, 4]), array([ 62, 896, 152, 948, 152]))\n"
     ]
    }
   ],
   "source": [
    "print(np.unique(preds, return_counts=True))\n",
    "print(np.unique(preds2, return_counts=True))\n"
   ],
   "metadata": {
    "collapsed": false,
    "ExecuteTime": {
     "end_time": "2024-03-16T19:11:52.047956034Z",
     "start_time": "2024-03-16T19:11:51.896650446Z"
    }
   },
   "execution_count": 19
  },
  {
   "cell_type": "markdown",
   "metadata": {},
   "source": [
    "Same logs so both models work the same"
   ]
  },
  {
   "cell_type": "code",
   "outputs": [
    {
     "name": "stdout",
     "output_type": "stream",
     "text": [
      "[1 3 3 3 3 2 2 2 3 3]\n",
      "[2, 3, 3, 3, 4, 2, 2, 1, 3, 3]\n"
     ]
    }
   ],
   "source": [
    "nb2_predictions = nb2.predict(X_test)\n",
    "print(nb2_predictions[:10])\n",
    "print(nb1_predictions[:10])"
   ],
   "metadata": {
    "collapsed": false,
    "ExecuteTime": {
     "end_time": "2024-03-16T19:11:52.092053476Z",
     "start_time": "2024-03-16T19:11:51.910845701Z"
    }
   },
   "execution_count": 20
  },
  {
   "cell_type": "code",
   "outputs": [
    {
     "name": "stdout",
     "output_type": "stream",
     "text": [
      "Naive Bayes (from scratch) accuracy: 0.39683257918552034\n",
      "Naive Bayes (scikit-learn) accuracy: 0.4090497737556561\n"
     ]
    }
   ],
   "source": [
    "nb1_accuracy = np.mean(nb1_predictions == y_test)\n",
    "nb2_accuracy = np.mean(nb2_predictions == y_test)\n",
    "print(\"Naive Bayes (from scratch) accuracy:\", nb1_accuracy)\n",
    "print(\"Naive Bayes (scikit-learn) accuracy:\", nb2_accuracy)"
   ],
   "metadata": {
    "collapsed": false,
    "ExecuteTime": {
     "end_time": "2024-03-16T19:11:52.140841734Z",
     "start_time": "2024-03-16T19:11:51.924407201Z"
    }
   },
   "execution_count": 21
  },
  {
   "cell_type": "markdown",
   "metadata": {},
   "source": [
    "## Logistic Regression"
   ]
  },
  {
   "cell_type": "markdown",
   "metadata": {},
   "source": [
    "### Implement Logistic Regression from scratch"
   ]
  },
  {
   "cell_type": "code",
   "execution_count": 22,
   "metadata": {
    "ExecuteTime": {
     "end_time": "2024-03-16T19:11:52.145795938Z",
     "start_time": "2024-03-16T19:11:51.971065755Z"
    }
   },
   "outputs": [],
   "source": [
    "class LogisticRegressionClassifier:\n",
    "    def __init__(self, learning_rate=0.01, num_iterations=100):\n",
    "        self.learning_rate = learning_rate\n",
    "        self.num_iterations = num_iterations\n",
    "        self.weights = None\n",
    "        self.bigrams = None\n",
    "        self.bias = None\n",
    "    \n",
    "    def sigmoid(self, z):\n",
    "        return 1 / (1 + np.exp(-z))\n",
    "    \n",
    "    def get_bigrams(self, X):\n",
    "        bigrams = {}\n",
    "        for doc in X:\n",
    "            doc = doc.split(\" \")\n",
    "            for i in range(len(doc) - 1):\n",
    "                bi = doc[i] + \" \" + doc[i+1]\n",
    "                if bi not in bigrams:\n",
    "                    bigrams[bi] = len(bigrams) \n",
    "        return bigrams\n",
    "    \n",
    "    def initialize_parameters(self, num_features, num_classes):\n",
    "        self.weights = np.zeros((num_features, num_classes))\n",
    "        self.bias = np.zeros((1, num_classes))\n",
    "    \n",
    "    def vectorize(self, X):\n",
    "        X = X.apply(lambda x: x.split(\" \"))\n",
    "        X_vectorized = np.zeros((len(X), len(self.bigrams)), dtype=bool)\n",
    "        for i in range(len(X)):\n",
    "            for j in range(len(X[i])- 1):\n",
    "                bigram = X[i][j] + \" \" + X[i][j+1]\n",
    "                if bigram in self.bigrams:\n",
    "                    X_vectorized[i][self.bigrams[bigram]] = True\n",
    "        return X_vectorized\n",
    "    \n",
    "    def fit(self, X, y, x_val, y_val, lr=0.01, num_iter=1000):\n",
    "        self.learning_rate = lr\n",
    "        self.num_iterations = num_iter\n",
    "        self.bigrams = self.get_bigrams(X)\n",
    "        X = self.vectorize(X)\n",
    "        x_val = self.vectorize(x_val)\n",
    "        return self.train(X, y, x_val, y_val)\n",
    "    \n",
    "    def multiclass_cross_entropy_loss(self, y, y_pred):\n",
    "        num_samples = len(y)\n",
    "        loss = -1/num_samples * np.sum(y * np.log(y_pred))\n",
    "        return loss\n",
    "    \n",
    "    def train(self, X, y, x_val, y_val):\n",
    "        num_samples, num_features = X.shape\n",
    "        num_classes = len(np.unique(y))\n",
    "        if self.weights is None:\n",
    "            self.initialize_parameters(num_features, num_classes)\n",
    "\n",
    "        y_encoded = np.zeros((num_samples, num_classes))\n",
    "        y_encoded[np.arange(num_samples), y] = 1\n",
    "        \n",
    "        y_val_encoded = np.zeros((len(y_val), num_classes))\n",
    "        y_val_encoded[np.arange(len(y_val)), y_val] = 1\n",
    "        \n",
    "        history = {\n",
    "            \"train_loss\": [],\n",
    "            \"train_accuracy\": [],\n",
    "            \"val_loss\": [],\n",
    "            \"val_accuracy\": []\n",
    "        }\n",
    "        for i in range(self.num_iterations):\n",
    "            linear_model = X.dot(self.weights) + self.bias\n",
    "            y_pred = self.softmax(linear_model)\n",
    "\n",
    "            dw = (1 / num_samples) * X.T.dot((y_pred - y_encoded))\n",
    "            db = (1 / num_samples) * np.sum(y_pred - y_encoded, axis=0)\n",
    "\n",
    "            self.weights -= self.learning_rate * dw\n",
    "            self.bias -= self.learning_rate * db\n",
    "            \n",
    "            if i % 20 == 0:\n",
    "                train_loss = self.multiclass_cross_entropy_loss(y_encoded, y_pred)\n",
    "                train_accuracy = np.mean(np.argmax(y_pred, axis=1) == y)\n",
    "                history[\"train_loss\"].append(train_loss)\n",
    "                history[\"train_accuracy\"].append(train_accuracy)\n",
    "                \n",
    "                val_pred = self.predict_proba(x_val)\n",
    "                val_loss = self.multiclass_cross_entropy_loss(y_val_encoded, val_pred)\n",
    "                val_accuracy = np.mean(np.argmax(val_pred, axis=1) == y_val)\n",
    "                history[\"val_loss\"].append(val_loss)\n",
    "                history[\"val_accuracy\"].append(val_accuracy)\n",
    "                \n",
    "                print(f\"iter {i}: train_loss {train_loss:.4f} train_accuracy {train_accuracy:.4f} val_loss {val_loss:.4f} val_accuracy {val_accuracy:.4f}\")\n",
    "                if i > 20 and history[\"val_loss\"][-2] - history[\"val_loss\"][-1] < 0.0002:\n",
    "                    break\n",
    "        return history\n",
    "    \n",
    "    def softmax(self, z):\n",
    "        e_z = np.exp(z - np.max(z, axis=1, keepdims=True))\n",
    "        return e_z / np.sum(e_z, axis=1, keepdims=True)\n",
    "    \n",
    "    def predict_proba(self, X):\n",
    "        linear_model = X.dot(self.weights) + self.bias\n",
    "        y_pred = self.softmax(linear_model)\n",
    "        return y_pred\n",
    "\n",
    "    def predict(self, X):\n",
    "        X = self.vectorize(X)\n",
    "        y_pred_proba = self.predict_proba(X)\n",
    "        y_pred_class = np.argmax(y_pred_proba, axis=1)\n",
    "        return y_pred_class"
   ]
  },
  {
   "cell_type": "code",
   "execution_count": 24,
   "metadata": {
    "ExecuteTime": {
     "end_time": "2024-03-16T19:21:52.887121382Z",
     "start_time": "2024-03-16T19:12:37.700306308Z"
    }
   },
   "outputs": [
    {
     "name": "stdout",
     "output_type": "stream",
     "text": [
      "iter 0: train_loss 1.6094 train_accuracy 0.1278 val_loss 1.6013 val_accuracy 0.2534\n",
      "iter 20: train_loss 1.5457 train_accuracy 0.3349 val_loss 1.5657 val_accuracy 0.2743\n",
      "iter 40: train_loss 1.5238 train_accuracy 0.4235 val_loss 1.5598 val_accuracy 0.3097\n",
      "iter 60: train_loss 1.5036 train_accuracy 0.4538 val_loss 1.5549 val_accuracy 0.3243\n",
      "iter 80: train_loss 1.4843 train_accuracy 0.4611 val_loss 1.5507 val_accuracy 0.3279\n"
     ]
    }
   ],
   "source": [
    "lr_classifier = LogisticRegressionClassifier()\n",
    "history = lr_classifier.fit(X_train_def, y_train, X_val_def, y_val, lr=0.5, num_iter=100)\n",
    "lr1 = lr_classifier"
   ]
  },
  {
   "cell_type": "code",
   "outputs": [
    {
     "data": {
      "text/plain": "0.32941176470588235"
     },
     "execution_count": 25,
     "metadata": {},
     "output_type": "execute_result"
    }
   ],
   "source": [
    "lr1_predictions = lr1.predict(X_test_def)\n",
    "accuracy = np.mean(lr1_predictions == y_test)\n",
    "accuracy"
   ],
   "metadata": {
    "collapsed": false,
    "ExecuteTime": {
     "end_time": "2024-03-16T19:21:53.992701441Z",
     "start_time": "2024-03-16T19:21:52.886923093Z"
    }
   },
   "execution_count": 25
  },
  {
   "cell_type": "code",
   "outputs": [
    {
     "data": {
      "text/plain": "<Figure size 640x480 with 1 Axes>",
      "image/png": "[encoded data removed]"
     },
     "metadata": {},
     "output_type": "display_data"
    }
   ],
   "source": [
    "plt.plot(history[\"train_loss\"], label=\"train_loss\")\n",
    "plt.plot(history[\"val_loss\"], label=\"val_loss\")\n",
    "plt.xlabel(\"Iterations\")\n",
    "plt.ylabel(\"Loss\")\n",
    "plt.title(\"Training Loss and Validation Loss\")\n",
    "plt.legend()\n",
    "plt.show()"
   ],
   "metadata": {
    "collapsed": false,
    "ExecuteTime": {
     "end_time": "2024-03-16T19:21:54.592041867Z",
     "start_time": "2024-03-16T19:21:53.993948313Z"
    }
   },
   "execution_count": 26
  },
  {
   "cell_type": "code",
   "outputs": [
    {
     "data": {
      "text/plain": "<Figure size 640x480 with 1 Axes>",
      "image/png": "[encoded data removed]"
     },
     "metadata": {},
     "output_type": "display_data"
    }
   ],
   "source": [
    "# Plot the training accuracy and validation accuracy\n",
    "plt.plot(history[\"train_accuracy\"], label=\"train_accuracy\")\n",
    "plt.plot(history[\"val_accuracy\"], label=\"val_accuracy\")\n",
    "plt.xlabel(\"Iterations\")\n",
    "plt.ylabel(\"Accuracy\")\n",
    "plt.title(\"Training Accuracy and Validation Accuracy\")\n",
    "plt.legend()\n",
    "plt.show()"
   ],
   "metadata": {
    "collapsed": false,
    "ExecuteTime": {
     "end_time": "2024-03-16T19:21:55.125660680Z",
     "start_time": "2024-03-16T19:21:54.619124913Z"
    }
   },
   "execution_count": 27
  },
  {
   "cell_type": "markdown",
   "metadata": {},
   "source": [
    "## Implement Logistic Regression from scikit learn"
   ]
  },
  {
   "cell_type": "code",
   "execution_count": 28,
   "metadata": {
    "ExecuteTime": {
     "end_time": "2024-03-16T19:22:16.695825846Z",
     "start_time": "2024-03-16T19:22:07.436702124Z"
    }
   },
   "outputs": [],
   "source": [
    "lr_classifier = LogisticRegression(max_iter=10000, penalty=None)\n",
    "lr2 = lr_classifier.fit(X_train, y_train)"
   ]
  },
  {
   "cell_type": "code",
   "execution_count": 29,
   "metadata": {
    "ExecuteTime": {
     "end_time": "2024-03-16T19:22:17.439119039Z",
     "start_time": "2024-03-16T19:22:16.673892343Z"
    }
   },
   "outputs": [],
   "source": [
    "lr_classifier = SGDClassifier(max_iter=10000, loss=\"log_loss\", penalty=None)\n",
    "lr3 = lr_classifier.fit(X_train, y_train)"
   ]
  },
  {
   "cell_type": "code",
   "outputs": [
    {
     "name": "stdout",
     "output_type": "stream",
     "text": [
      "Logistic Regression (scikit-learn) accuracy: 0.3592760180995475\n",
      "Logistic Regression (scikit-learn with scaling) accuracy: 0.3760180995475113\n"
     ]
    }
   ],
   "source": [
    "lr2_predictions = lr2.predict(X_test)\n",
    "lr3_predictions = lr3.predict(X_test)\n",
    "\n",
    "lr2_accuracy = np.mean(lr2_predictions == y_test)\n",
    "lr3_accuracy = np.mean(lr3_predictions == y_test)\n",
    "\n",
    "print(\"Logistic Regression (scikit-learn) accuracy:\", lr2_accuracy)\n",
    "print(\"Logistic Regression (scikit-learn with scaling) accuracy:\", lr3_accuracy)"
   ],
   "metadata": {
    "collapsed": false,
    "ExecuteTime": {
     "end_time": "2024-03-16T19:22:17.465175974Z",
     "start_time": "2024-03-16T19:22:17.346067500Z"
    }
   },
   "execution_count": 30
  },
  {
   "cell_type": "markdown",
   "metadata": {},
   "source": [
    "# Confusion Matrix &Evaluation Metrics"
   ]
  },
  {
   "cell_type": "markdown",
   "metadata": {},
   "source": [
    "### Confusion Matrix using scikit learn"
   ]
  },
  {
   "cell_type": "code",
   "execution_count": 31,
   "metadata": {
    "ExecuteTime": {
     "end_time": "2024-03-16T19:22:17.605489450Z",
     "start_time": "2024-03-16T19:22:17.365095921Z"
    }
   },
   "outputs": [],
   "source": [
    "def generate_confusion_matrix1(y_true, y_pred):\n",
    "    cm = confusion_matrix(y_true, y_pred)\n",
    "    labels = np.unique(np.concatenate((y_true, y_pred)))\n",
    "    cm_df = pd.DataFrame(cm, index=labels, columns=labels)\n",
    "    return cm_df"
   ]
  },
  {
   "cell_type": "markdown",
   "metadata": {},
   "source": [
    "### Confusion Matrix from scratch"
   ]
  },
  {
   "cell_type": "code",
   "execution_count": 32,
   "metadata": {
    "ExecuteTime": {
     "end_time": "2024-03-16T19:22:17.643078003Z",
     "start_time": "2024-03-16T19:22:17.388558304Z"
    }
   },
   "outputs": [],
   "source": [
    "def generate_confusion_matrix2(y_true, y_pred):\n",
    "    labels = np.unique(np.concatenate((y_true, y_pred)))\n",
    "    num_labels = len(labels)\n",
    "    cm = np.zeros((num_labels, num_labels), dtype=int)\n",
    "    \n",
    "    for i in range(len(y_true)):\n",
    "        true_label = np.where(labels == y_true[i])[0][0]\n",
    "        pred_label = np.where(labels == y_pred[i])[0][0]\n",
    "        cm[true_label][pred_label] += 1\n",
    "    \n",
    "    cm_df = pd.DataFrame(cm, index=labels, columns=labels)\n",
    "    return cm_df"
   ]
  },
  {
   "cell_type": "code",
   "outputs": [],
   "source": [],
   "metadata": {
    "collapsed": false,
    "ExecuteTime": {
     "end_time": "2024-03-16T19:22:17.669994193Z",
     "start_time": "2024-03-16T19:22:17.410183369Z"
    }
   },
   "execution_count": 32
  },
  {
   "cell_type": "markdown",
   "metadata": {},
   "source": [
    "### Metrics from scratch"
   ]
  },
  {
   "cell_type": "code",
   "execution_count": 33,
   "metadata": {
    "ExecuteTime": {
     "end_time": "2024-03-16T19:22:17.689801833Z",
     "start_time": "2024-03-16T19:22:17.415537999Z"
    }
   },
   "outputs": [],
   "source": [
    "def compute_metrics(confusion_matrix):\n",
    "    # Get the unique labels\n",
    "    labels = confusion_matrix.index.tolist()\n",
    "\n",
    "    # Initialize lists to store precision, recall, and F1 score per class\n",
    "    precision_per_class = []\n",
    "    recall_per_class = []\n",
    "    f1_score_per_class = []\n",
    "\n",
    "    # Compute precision, recall, and F1 score per class\n",
    "    for label in labels:\n",
    "        true_positives = confusion_matrix.loc[label, label]\n",
    "        false_positives = confusion_matrix.loc[:, label].sum() - true_positives\n",
    "        false_negatives = confusion_matrix.loc[label, :].sum() - true_positives\n",
    "\n",
    "        precision = true_positives / (true_positives + false_positives)\n",
    "        recall = true_positives / (true_positives + false_negatives)\n",
    "        f1 = 2 * (precision * recall) / (precision + recall)\n",
    "\n",
    "        precision_per_class.append(precision)\n",
    "        recall_per_class.append(recall)\n",
    "        f1_score_per_class.append(f1)\n",
    "\n",
    "    # Compute macro-averaged precision, recall, and F1 score\n",
    "    macro_precision = sum(precision_per_class) / len(precision_per_class)\n",
    "    macro_recall = sum(recall_per_class) / len(recall_per_class)\n",
    "    macro_f1_score = sum(f1_score_per_class) / len(f1_score_per_class)\n",
    "\n",
    "    return {\n",
    "        'precision_per_class': precision_per_class,\n",
    "        'recall_per_class': recall_per_class,\n",
    "        'f1_score_per_class': f1_score_per_class,\n",
    "        'macro_precision': macro_precision,\n",
    "        'macro_recall': macro_recall,\n",
    "        'macro_f1_score': macro_f1_score\n",
    "    }"
   ]
  },
  {
   "cell_type": "code",
   "execution_count": 34,
   "metadata": {
    "ExecuteTime": {
     "end_time": "2024-03-16T19:22:17.711840656Z",
     "start_time": "2024-03-16T19:22:17.459069961Z"
    }
   },
   "outputs": [],
   "source": [
    "model = nb2 # Change to nb2, lr1, or lr2 to generate confusion matrix for other models\n",
    "y_pred = model.predict(X_test)"
   ]
  },
  {
   "cell_type": "code",
   "outputs": [
    {
     "name": "stdout",
     "output_type": "stream",
     "text": [
      "Model Naive Bayes (from scratch): 0.39683257918552034\n",
      "Model Naive Bayes (scikit-learn): 0.4090497737556561\n",
      "Model Logistic Regression (from scratch): 0.32941176470588235\n",
      "Model Naive Bayes (from scratch): 0.3592760180995475\n",
      "Model Naive Bayes (from scratch): 0.3760180995475113\n"
     ]
    }
   ],
   "source": [
    "models = [nb1, nb2, lr1, lr2, lr3]\n",
    "model_names = [\"Naive Bayes (from scratch)\", \"Naive Bayes (scikit-learn)\", \"Logistic Regression (from scratch)\", \"Logistic Regression (scikit-learn)\", \"Logistic Regression (scikit-learn with scaling)\"]\n",
    "\n",
    "\n",
    "print(f\"Model {model_names[0]}: {np.mean(nb1_predictions == y_test)}\")\n",
    "print(f\"Model {model_names[1]}: {np.mean(nb2_predictions == y_test)}\")\n",
    "print(f\"Model {model_names[2]}: {np.mean(lr1_predictions == y_test)}\")\n",
    "print(f\"Model {model_names[0]}: {np.mean(lr2_predictions == y_test)}\")\n",
    "print(f\"Model {model_names[0]}: {np.mean(lr3_predictions == y_test)}\")"
   ],
   "metadata": {
    "collapsed": false,
    "ExecuteTime": {
     "end_time": "2024-03-16T19:22:17.818245506Z",
     "start_time": "2024-03-16T19:22:17.482068385Z"
    }
   },
   "execution_count": 35
  },
  {
   "cell_type": "markdown",
   "metadata": {},
   "source": [
    "Confusion matrix using scikit learn"
   ]
  },
  {
   "cell_type": "code",
   "execution_count": 36,
   "metadata": {
    "ExecuteTime": {
     "end_time": "2024-03-16T19:22:18.366460224Z",
     "start_time": "2024-03-16T19:22:17.590243943Z"
    }
   },
   "outputs": [
    {
     "data": {
      "text/plain": "<Figure size 640x480 with 2 Axes>",
      "image/png": "[encoded data removed]"
     },
     "metadata": {},
     "output_type": "display_data"
    }
   ],
   "source": [
    "cm1 = generate_confusion_matrix1(y_test, y_pred)\n",
    "# Plot the confusion matrix\n",
    "sns.heatmap(cm1, annot=True, cmap='Blues', fmt='g')\n",
    "plt.xlabel('Predicted')\n",
    "plt.ylabel('Actual')\n",
    "plt.title('Confusion Matrix')\n",
    "plt.show()"
   ]
  },
  {
   "cell_type": "markdown",
   "metadata": {},
   "source": [
    "Confusion matrix from scratch"
   ]
  },
  {
   "cell_type": "code",
   "execution_count": 37,
   "metadata": {
    "ExecuteTime": {
     "end_time": "2024-03-16T19:22:19.187468914Z",
     "start_time": "2024-03-16T19:22:18.411172397Z"
    }
   },
   "outputs": [
    {
     "data": {
      "text/plain": "<Figure size 640x480 with 2 Axes>",
      "image/png": "[encoded data removed]"
     },
     "metadata": {},
     "output_type": "display_data"
    }
   ],
   "source": [
    "cm2 = generate_confusion_matrix2(y_test, y_pred)\n",
    "# Plot the confusion matrix\n",
    "sns.heatmap(cm2, annot=True, cmap='Blues', fmt='g')\n",
    "plt.xlabel('Predicted')\n",
    "plt.ylabel('Actual')\n",
    "plt.title('Confusion Matrix')\n",
    "plt.show()"
   ]
  },
  {
   "cell_type": "code",
   "execution_count": 38,
   "metadata": {
    "ExecuteTime": {
     "end_time": "2024-03-16T19:22:19.239156162Z",
     "start_time": "2024-03-16T19:22:19.150919021Z"
    }
   },
   "outputs": [
    {
     "name": "stdout",
     "output_type": "stream",
     "text": [
      "Precision (from scratch): [0.45161290322580644, 0.46316964285714285, 0.2236842105263158, 0.35864978902953587, 0.5723684210526315]\n",
      "Precision (sklearn): [0.4516129  0.46316964 0.22368421 0.35864979 0.57236842]\n",
      "---------------------------------\n",
      "Recall (from scratch): [0.1003584229390681, 0.655608214849921, 0.08740359897172237, 0.6666666666666666, 0.21804511278195488]\n",
      "Recall (sklearn): [0.10035842 0.65560821 0.0874036  0.66666667 0.21804511]\n",
      "---------------------------------\n",
      "F1 Score (from scratch): [0.16422287390029328, 0.5428384565075213, 0.1256931608133087, 0.46639231824417016, 0.3157894736842105]\n",
      "F1 Score (sklearn): [0.16422287 0.54283846 0.12569316 0.46639232 0.31578947]\n"
     ]
    }
   ],
   "source": [
    "Metrics = compute_metrics(cm2)\n",
    "precision_scratch, recall_scratch, f1_scratch = Metrics['precision_per_class'], Metrics['recall_per_class'], Metrics['f1_score_per_class']\n",
    "# Calculate precision, recall, and F1 score using sklearn functions\n",
    "precision_sklearn = precision_score(y_test, y_pred, average=None)\n",
    "recall_sklearn = recall_score(y_test, y_pred, average=None)\n",
    "f1_sklearn = f1_score(y_test, y_pred, average=None)\n",
    "\n",
    "# Compare the metrics\n",
    "print(\"Precision (from scratch):\", precision_scratch)\n",
    "print(\"Precision (sklearn):\", precision_sklearn)\n",
    "print(\"---------------------------------\")\n",
    "print(\"Recall (from scratch):\", recall_scratch)\n",
    "print(\"Recall (sklearn):\", recall_sklearn)\n",
    "print(\"---------------------------------\")\n",
    "print(\"F1 Score (from scratch):\", f1_scratch)\n",
    "print(\"F1 Score (sklearn):\", f1_sklearn)\n"
   ]
  },
  {
   "cell_type": "code",
   "outputs": [],
   "source": [],
   "metadata": {
    "collapsed": false,
    "ExecuteTime": {
     "start_time": "2024-03-16T19:12:35.435128972Z"
    }
   },
   "execution_count": null
  }
 ],
 "metadata": {
  "kernelspec": {
   "name": "python3",
   "language": "python",
   "display_name": "Python 3 (ipykernel)"
  },
  "language_info": {
   "codemirror_mode": {
    "name": "ipython",
    "version": 3
   },
   "file_extension": ".py",
   "mimetype": "text/x-python",
   "name": "python",
   "nbconvert_exporter": "python",
   "pygments_lexer": "ipython3",
   "version": "3.11.8"
  }
 },
 "nbformat": 4,
 "nbformat_minor": 2
}
